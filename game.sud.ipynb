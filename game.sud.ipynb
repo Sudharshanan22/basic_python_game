{
 "cells": [
  {
   "cell_type": "code",
   "execution_count": 1,
   "id": "629f35dd",
   "metadata": {},
   "outputs": [],
   "source": [
    "# @@@@@@@@@@@@@@@@@@@@@@@@@@@@@@@@@@@@@@@@@@@@@@@@@@@@@@@@   1 ball in 3 cup  @@@@@@@@@@@@@@@@@@@@@@@@@@@@@@@@@@@@@@@@@@@@@@@@@@"
   ]
  },
  {
   "cell_type": "code",
   "execution_count": 2,
   "id": "f207aac4",
   "metadata": {},
   "outputs": [],
   "source": [
    "from random import shuffle\n",
    "##shuffle needs to be imported from random, shuffle is a imported function "
   ]
  },
  {
   "cell_type": "code",
   "execution_count": null,
   "id": "43ab5619",
   "metadata": {},
   "outputs": [],
   "source": []
  },
  {
   "cell_type": "code",
   "execution_count": 3,
   "id": "4bedeee2",
   "metadata": {},
   "outputs": [],
   "source": [
    "def player_guess(num):\n",
    "    num_list = [0,1,2]\n",
    "    if num in num_list:\n",
    "        print(f\"the choosen place is {num}\")\n",
    "        return num\n",
    "##return must be mentioned so that a value can be assigned to another variable\n",
    "    else:\n",
    "        pass\n",
    "   "
   ]
  },
  {
   "cell_type": "code",
   "execution_count": 4,
   "id": "04338c84",
   "metadata": {},
   "outputs": [],
   "source": [
    "def game(a):\n",
    "    game_list=[\"[]\",\"[O]\",\"[]\"]\n",
    "    shuffle(game_list)\n",
    "    print(game_list)\n",
    "    if game_list[a] == \"O\":\n",
    "        print(\"you win\")\n",
    "    else:\n",
    "        print(\"you loose\")\n",
    "        "
   ]
  },
  {
   "cell_type": "code",
   "execution_count": 5,
   "id": "799a82da",
   "metadata": {},
   "outputs": [],
   "source": [
    "def game_starts():\n",
    "    num = input(\"enter the value \")\n",
    "    c = [1,2,3]\n",
    "    a = player_guess(int(num))\n",
    "    if a in c:\n",
    "        game(a)\n",
    "    else:\n",
    "        print(\"please enter a valid num 1,2,3\")\n",
    "## int(num) should be given so that num is taken as integer, if any input vaule is given it is taken as a string"
   ]
  },
  {
   "cell_type": "code",
   "execution_count": null,
   "id": "1055c72d",
   "metadata": {},
   "outputs": [],
   "source": [
    "game_starts()"
   ]
  },
  {
   "cell_type": "code",
   "execution_count": null,
   "id": "6040f3c1",
   "metadata": {},
   "outputs": [],
   "source": []
  },
  {
   "cell_type": "code",
   "execution_count": null,
   "id": "d042c6a7",
   "metadata": {},
   "outputs": [],
   "source": [
    " ####################################               1 ball in 3 cup               ########################################\n",
    "    "
   ]
  },
  {
   "cell_type": "code",
   "execution_count": null,
   "id": "d1ac2042",
   "metadata": {},
   "outputs": [],
   "source": []
  },
  {
   "cell_type": "code",
   "execution_count": null,
   "id": "b8171301",
   "metadata": {},
   "outputs": [],
   "source": [
    "from random import shuffle\n",
    "\n",
    "def input_shuffling():\n",
    "    my_game_list = [\"[]\",\"[O]\",\"[]\"]\n",
    "    guess = input(\"enter a value \")\n",
    "\n",
    "    shuffle(my_game_list)\n",
    "    return (int(guess),my_game_list)       \n",
    "    \n",
    "        "
   ]
  },
  {
   "cell_type": "code",
   "execution_count": null,
   "id": "96c25be0",
   "metadata": {},
   "outputs": [],
   "source": []
  },
  {
   "cell_type": "code",
   "execution_count": null,
   "id": "422f2d82",
   "metadata": {},
   "outputs": [],
   "source": [
    "def second_part(a,b):\n",
    "    if b[a] == \"[O]\":\n",
    "        print(\"you win\")\n",
    "    else:\n",
    "        print(\"you lose\")"
   ]
  },
  {
   "cell_type": "code",
   "execution_count": null,
   "id": "64518abc",
   "metadata": {},
   "outputs": [],
   "source": [
    "def game():\n",
    "    mylist = [0,1,2]\n",
    "    a,b = input_shuffling()\n",
    "    if int(a) in mylist:     \n",
    "        second_part(a,b)\n",
    "        print(b)\n",
    "    else:\n",
    "         print(\"please enter a vaild number\")\n",
    "\n"
   ]
  },
  {
   "cell_type": "code",
   "execution_count": null,
   "id": "69e08bb1",
   "metadata": {},
   "outputs": [],
   "source": [
    "game()"
   ]
  },
  {
   "cell_type": "code",
   "execution_count": null,
   "id": "ddb83bfc",
   "metadata": {},
   "outputs": [],
   "source": []
  },
  {
   "cell_type": "code",
   "execution_count": null,
   "id": "db53cf15",
   "metadata": {},
   "outputs": [],
   "source": [
    "## @@@@@@@@@@@@@@@@@@@@@@@@@@@@@@@@@@@@@@@@ TIC TAC TOE @@@@@@@@@@@@@@@@@@@@@@@@@@@@@@@@@@@@@@@@@@@@@@@@@@@@@@@@@@@@@@@@@@@@@@@@"
   ]
  },
  {
   "cell_type": "code",
   "execution_count": null,
   "id": "51cb2800",
   "metadata": {},
   "outputs": [],
   "source": []
  },
  {
   "cell_type": "code",
   "execution_count": null,
   "id": "2197d2e1",
   "metadata": {},
   "outputs": [],
   "source": []
  },
  {
   "cell_type": "code",
   "execution_count": null,
   "id": "a40ea063",
   "metadata": {},
   "outputs": [],
   "source": [
    "def display():\n",
    "    print(row1)\n",
    "    print(design1)\n",
    "    print(row2)\n",
    "    print(design2)\n",
    "    print(row3)\n",
    "    print(end_line)\n",
    "    \n",
    "    "
   ]
  },
  {
   "cell_type": "code",
   "execution_count": null,
   "id": "47966d66",
   "metadata": {},
   "outputs": [],
   "source": [
    "def x_position(a):\n",
    "    value = [\"O\",\"X\"]\n",
    "    \n",
    "    if a == 11:\n",
    "        if row1[0] in value:\n",
    "            print(\"place already taken\")\n",
    "            xplay()\n",
    "        else:\n",
    "            row1[0] = \"X\"\n",
    "            \n",
    "            \n",
    "    elif a == 12:\n",
    "        if row1[1] in value:\n",
    "            print(\"place already taken\")\n",
    "            xplay()\n",
    "        else:\n",
    "            row1[1]= \"X\"\n",
    "    elif a == 13:\n",
    "        if row1[2] in value:\n",
    "            print(\"place already taken\")\n",
    "            xplay()\n",
    "        else:\n",
    "            row1[2]= \"X\"\n",
    "    elif a == 21:\n",
    "        if row2[0] in value:\n",
    "            print(\"place already taken\")\n",
    "            xplay()\n",
    "        else:\n",
    "            row2[0]= \"X\"\n",
    "    elif a == 22:\n",
    "        if row2[1] in value:\n",
    "            print(\"place already taken\")\n",
    "            xplay()\n",
    "        else:\n",
    "            row2[1]= \"X\"\n",
    "    elif a == 23:\n",
    "        if row2[2] in value:\n",
    "            print(\"place already taken\")\n",
    "            xplay()\n",
    "        else:\n",
    "            row2[2]= \"X\"\n",
    "    elif a == 31:\n",
    "        if row3[0] in value:\n",
    "            print(\"place already taken\")\n",
    "            xplay()\n",
    "        else:\n",
    "            row3[0]= \"X\"\n",
    "    elif a == 32:\n",
    "        if row3[1] in value:\n",
    "            print(\"place already taken\")\n",
    "            xplay()\n",
    "        else:\n",
    "            row3[1]= \"X\"\n",
    "    elif a == 33:\n",
    "        if row3[2] in value:\n",
    "            print(\"place already taken\")\n",
    "            xplay()\n",
    "        else:\n",
    "            row3[2]= \"X\"\n",
    "    display()"
   ]
  },
  {
   "cell_type": "code",
   "execution_count": null,
   "id": "4d154e05",
   "metadata": {},
   "outputs": [],
   "source": [
    "def o_position(a):\n",
    "    value = [\"O\",\"X\"]\n",
    "    \n",
    "    if a == 11:\n",
    "        if row1[0] in value:\n",
    "            print(\"place already taken\")\n",
    "            oplay()\n",
    "        else:\n",
    "            row1[0] = \"O\"\n",
    "            \n",
    "            \n",
    "    elif a == 12:\n",
    "        if row1[1] in value:\n",
    "            print(\"place already taken\")\n",
    "            oplay()\n",
    "        else:\n",
    "            row1[1]= \"O\"\n",
    "    elif a == 13:\n",
    "        if row1[2] in value:\n",
    "            print(\"place already taken\")\n",
    "            oplay()\n",
    "        else:\n",
    "            row1[2]= \"O\"\n",
    "    elif a == 21:\n",
    "        if row2[0] in value:\n",
    "            print(\"place already taken\")\n",
    "            oplay()\n",
    "        else:\n",
    "            row2[0]= \"O\"\n",
    "    elif a == 22:\n",
    "        if row2[1] in value:\n",
    "            print(\"place already taken\")\n",
    "            oplay()\n",
    "        else:\n",
    "            row2[1]= \"O\"\n",
    "    elif a == 23:\n",
    "        if row2[2] in value:\n",
    "            print(\"place already taken\")\n",
    "            oplay()\n",
    "        else:\n",
    "            row2[2]= \"O\"\n",
    "    elif a == 31:\n",
    "        if row3[0] in value:\n",
    "            print(\"place already taken\")\n",
    "            oplay()\n",
    "        else:\n",
    "            row3[0]= \"O\"\n",
    "    elif a == 32:\n",
    "        if row3[1] in value:\n",
    "            print(\"place already taken\")\n",
    "            oplay()\n",
    "        else:\n",
    "            row3[1]= \"O\"\n",
    "    elif a == 33:\n",
    "        if row3[2] in value:\n",
    "            print(\"place already taken\")\n",
    "            oplay()\n",
    "        else:\n",
    "            row3[2]= \"O\"\n",
    "    display()"
   ]
  },
  {
   "cell_type": "code",
   "execution_count": null,
   "id": "0dc98084",
   "metadata": {},
   "outputs": [],
   "source": [
    "def xplay():\n",
    "    a = input(\"x play: \")\n",
    "    a = int(a)\n",
    "    if a in position:\n",
    "        x_position(int(a))\n",
    "    else:\n",
    "        print(\"enter a valid position\")\n",
    "        xplay()"
   ]
  },
  {
   "cell_type": "code",
   "execution_count": null,
   "id": "5170faeb",
   "metadata": {},
   "outputs": [],
   "source": [
    "def oplay():\n",
    "    a = input(\"o play: \")\n",
    "    a = int(a)\n",
    "    if a in position:\n",
    "        o_position(int(a))\n",
    "    else:\n",
    "        print(\"enter a valid position\")\n",
    "        oplay()\n",
    "        "
   ]
  },
  {
   "cell_type": "code",
   "execution_count": null,
   "id": "d9117dd6",
   "metadata": {},
   "outputs": [],
   "source": [
    "def winner():\n",
    "    if row1[0]==row1[1]==row1[2]==\"X\" or row2[0]==row2[1]==row2[2]==\"X\" or row3[0]==row3[1]==row3[2]==\"X\":\n",
    "        return \"X wins\"\n",
    "    \n",
    "    elif row1[0]==row2[0]==row3[0]==\"X\" or row1[1]==row2[1]==row3[1]==\"X\" or row1[2]==row2[2]==row3[2]==\"X\" or row1[0]==row2[1]==row3[2]==\"X\":\n",
    "         return \"X wins\"\n",
    "    elif row1[0]==row1[1]==row1[2]==\"O\" or row2[0]==row2[1]==row2[2]==\"O\" or row3[0]==row3[1]==row3[2]==\"O\":\n",
    "        return \"O wins\"\n",
    "    elif row1[0]==row2[0]==row3[0]==\"O\" or row1[1]==row2[1]==row3[1]==\"O\" or row1[2]==row2[2]==row3[2]==\"O\" or row1[0]==row2[1]==row3[2]==\"O\":\n",
    "         return \"O wins\"\n",
    "    else:\n",
    "        pass"
   ]
  },
  {
   "cell_type": "code",
   "execution_count": null,
   "id": "b3181aba",
   "metadata": {},
   "outputs": [],
   "source": [
    "def tic_tac_toe():\n",
    "\n",
    "    print([11, 12, 13]) \n",
    "    print([21, 22, 23]) \n",
    "    print([31, 32, 33])\n",
    "\n",
    "    display()\n",
    "\n",
    "    xplay()\n",
    "    oplay()\n",
    "    xplay()\n",
    "    oplay() \n",
    "    xplay()\n",
    "\n",
    "    a = winner()\n",
    "    if a in winning:\n",
    "        return a\n",
    "    oplay() \n",
    "    a = winner() \n",
    "    if a in winning:\n",
    "        return a\n",
    "    xplay()\n",
    "    a= winner() \n",
    "    if a in winning:\n",
    "        return a\n",
    "    oplay() \n",
    "    a = winner()\n",
    "    if a in winning:\n",
    "        return a\n",
    "    xplay() \n",
    "    a = winner()\n",
    "    if a in winning:\n",
    "        return a"
   ]
  },
  {
   "cell_type": "code",
   "execution_count": 1,
   "id": "c34731fc",
   "metadata": {},
   "outputs": [
    {
     "ename": "NameError",
     "evalue": "name 'tic_tac_toe' is not defined",
     "output_type": "error",
     "traceback": [
      "\u001b[1;31m---------------------------------------------------------------------------\u001b[0m",
      "\u001b[1;31mNameError\u001b[0m                                 Traceback (most recent call last)",
      "\u001b[1;32m~\\AppData\\Local\\Temp/ipykernel_14160/524667464.py\u001b[0m in \u001b[0;36m<module>\u001b[1;34m\u001b[0m\n\u001b[0;32m      8\u001b[0m \u001b[0mposition\u001b[0m \u001b[1;33m=\u001b[0m \u001b[1;33m[\u001b[0m\u001b[1;36m11\u001b[0m\u001b[1;33m,\u001b[0m\u001b[1;36m12\u001b[0m\u001b[1;33m,\u001b[0m\u001b[1;36m13\u001b[0m\u001b[1;33m,\u001b[0m\u001b[1;36m21\u001b[0m\u001b[1;33m,\u001b[0m\u001b[1;36m22\u001b[0m\u001b[1;33m,\u001b[0m\u001b[1;36m23\u001b[0m\u001b[1;33m,\u001b[0m\u001b[1;36m31\u001b[0m\u001b[1;33m,\u001b[0m\u001b[1;36m32\u001b[0m\u001b[1;33m,\u001b[0m\u001b[1;36m33\u001b[0m\u001b[1;33m]\u001b[0m\u001b[1;33m\u001b[0m\u001b[1;33m\u001b[0m\u001b[0m\n\u001b[0;32m      9\u001b[0m \u001b[0mwinning\u001b[0m \u001b[1;33m=\u001b[0m \u001b[1;33m[\u001b[0m\u001b[1;34m\"X wins\"\u001b[0m\u001b[1;33m,\u001b[0m\u001b[1;34m\"O wins\"\u001b[0m\u001b[1;33m]\u001b[0m\u001b[1;33m\u001b[0m\u001b[1;33m\u001b[0m\u001b[0m\n\u001b[1;32m---> 10\u001b[1;33m \u001b[0mtic_tac_toe\u001b[0m\u001b[1;33m(\u001b[0m\u001b[1;33m)\u001b[0m\u001b[1;33m\u001b[0m\u001b[1;33m\u001b[0m\u001b[0m\n\u001b[0m",
      "\u001b[1;31mNameError\u001b[0m: name 'tic_tac_toe' is not defined"
     ]
    }
   ],
   "source": [
    "    row1 = [\"-\", \"-\" ,\"-\"]\n",
    "    design1 = [\"-----------\"]\n",
    "    row2 = [\"-\",\"-\",\"-\"]\n",
    "    design2 = [\"-----------\"]\n",
    "    row3 = [\"-\",\"-\",\"-\"]\n",
    "    end_line = [\"_________________________________________________________________________________________\"]\n",
    "    \n",
    "    position = [11,12,13,21,22,23,31,32,33]\n",
    "    winning = [\"X wins\",\"O wins\"]\n",
    "tic_tac_toe()"
   ]
  },
  {
   "cell_type": "code",
   "execution_count": null,
   "id": "617baba2",
   "metadata": {},
   "outputs": [],
   "source": [
    "tic_tac_toe()\n",
    "        "
   ]
  },
  {
   "cell_type": "code",
   "execution_count": null,
   "id": "68ac177f",
   "metadata": {},
   "outputs": [],
   "source": [
    "def fun():\n",
    "    xo = [\"#\",1,2,3,4,5,6,7,8,9]\n",
    "    Condition = True\n",
    "    for x in xo[1:]:\n",
    "        while Condition:\n",
    "            if 1 and 2 and 3 and 4 and 5 and 6 and 7 and 8 and 9 in xo:\n",
    "                a = input(\"X enter the place : \")\n",
    "                a = int(a)\n",
    "                if xo[a] not in [\"X\",\"O\"]:\n",
    "                     xo[a]= \"X\"\n",
    "                else:\n",
    "                    print(\"ener a valid value\")\n",
    "                b = input(\"O enter the place : \")\n",
    "                b= int(b)\n",
    "                if 1 or 2 or 3 or 4 and 5 or 6 or 7 and 8 or 9 not in xo:\n",
    "                    pass\n",
    "                    if xo[b] not in [\"X\",\"O\"]:\n",
    "                        xo[b]= \"O\"\n",
    "                    else:\n",
    "                        print(\"ener a valid value\")\n",
    "            else:\n",
    "                Condition = False\n",
    "            \n",
    "     \n",
    "    print(xo)\n",
    "    return xo"
   ]
  },
  {
   "cell_type": "code",
   "execution_count": null,
   "id": "ffe81fe9",
   "metadata": {},
   "outputs": [],
   "source": [
    "#@@@@@@@@@@@@@@@@@@@@@@@@@@@@@@@@@@@@@@@@@@@@@@@@@@@@@@@@@@@@@@@@@@@@@@@@@@@@@@@@@@@@@@@@@@@@@@@@@@@@@@@@@@@@@@@@@@@@@@@@@@@@@@"
   ]
  },
  {
   "cell_type": "code",
   "execution_count": null,
   "id": "b99814dc",
   "metadata": {},
   "outputs": [],
   "source": []
  },
  {
   "cell_type": "code",
   "execution_count": null,
   "id": "063d4745",
   "metadata": {},
   "outputs": [],
   "source": []
  },
  {
   "cell_type": "code",
   "execution_count": 1,
   "id": "78bbf87e",
   "metadata": {},
   "outputs": [],
   "source": [
    "from IPython.display import clear_output\n",
    "def board_view(xo):\n",
    "    clear_output()\n",
    "    \n",
    "    print(player_value)\n",
    "    \n",
    "    print(\"                      \")\n",
    "    \n",
    "    print([9,8,7])\n",
    "    print([6,5,4])\n",
    "    print([3,2,1])\n",
    "\n",
    "    print(\"                      \")\n",
    "    print(\"                      \")\n",
    "\n",
    "    print(\"|\"+xo[9]+\"|\"+xo[8]+\"|\"+xo[7]+\"|\")\n",
    "    print(\"-------\")\n",
    "    print(\"|\"+xo[6]+\"|\"+xo[5]+\"|\"+xo[4]+\"|\")\n",
    "    print(\"-------\")\n",
    "    print(\"|\"+xo[3]+\"|\"+xo[2]+\"|\"+xo[1]+\"|\")"
   ]
  },
  {
   "cell_type": "code",
   "execution_count": null,
   "id": "1fe50f1b",
   "metadata": {},
   "outputs": [],
   "source": []
  },
  {
   "cell_type": "code",
   "execution_count": 2,
   "id": "f23caa8f",
   "metadata": {},
   "outputs": [],
   "source": [
    "def playername():\n",
    "    player1 = input(\"player 1 name:  \")\n",
    "    print(f\"welcome   {player1}\")\n",
    "           \n",
    "    player2 = input(\"player 2 name:  \")\n",
    "    print(f\"welcome   {player2}\")\n",
    "    \n",
    "    condition = True\n",
    "    \n",
    "    while condition:\n",
    "        p1_choice = input((f\"{player1} Choose X or O: \" ))\n",
    "        if p1_choice in [\"X\",\"O\",\"x\",\"o\"]:\n",
    "            break\n",
    "            condition = False\n",
    "   \n",
    "\n",
    "    \n",
    "    \n",
    "    \n",
    "    if p1_choice == \"X\" or p1_choice == \"x\":\n",
    "        print(f\"{player2} you are O\")\n",
    "        p2_choice = \"O\"\n",
    "    else:\n",
    "        print(f\"{player2} you are X\")\n",
    "        p2_choice = \"X\"\n",
    "    p1_choice = p1_choice.upper()\n",
    "    p2_choice = p2_choice.upper()\n",
    "    player_value = {p1_choice:player1,p2_choice:player2}\n",
    "    return player_value\n",
    "    "
   ]
  },
  {
   "cell_type": "code",
   "execution_count": 3,
   "id": "bc0adfff",
   "metadata": {},
   "outputs": [],
   "source": [
    "import random ##############################\n",
    "def firstplay(raw_player_value):\n",
    "    start_YN = input(\"do you want to continue (yes or no): \")\n",
    "    if start_YN[0].lower() == \"y\":\n",
    "        value = random.randint(0,1)\n",
    "        if value == 0:\n",
    "            raw_player_value = {p1_choice:player1,p2_choice:player2}           \n",
    "        else:\n",
    "            raw_player_value = {p2_choice:player2,p1_choice:player1}\n",
    "            \n",
    "                \n",
    "        return raw_player_value"
   ]
  },
  {
   "cell_type": "code",
   "execution_count": 4,
   "id": "444e04d5",
   "metadata": {},
   "outputs": [],
   "source": [
    "def win_check(player_value,xo):\n",
    "    for obj in xo:\n",
    "        if xo[1]==xo[2]==xo[3]==obj or xo[4]==xo[5]==xo[6]==obj or xo[7]==xo[8]==xo[9]== obj or xo[7]==xo[5]==xo[3] ==obj:\n",
    "            return player_value.get(obj)\n",
    "        elif xo[1]==xo[4]==xo[7]==obj or xo[2]==xo[5]==xo[8]== obj or xo[3]==xo[6]==xo[9]==obj or xo[9]==xo[5]==xo[1] ==obj:\n",
    "            return player_value.get(obj)   \n",
    "    else:\n",
    "        return \"Match Draw\""
   ]
  },
  {
   "cell_type": "code",
   "execution_count": 5,
   "id": "824686fb",
   "metadata": {},
   "outputs": [],
   "source": [
    "###############################################\n",
    "###################win = win_check(xo,play1,play2)\n",
    "## def winner(player_value):\n",
    " #   if win == xo[play1]\n",
    "#        return player_vaule.get(xo[play1])\n",
    "#    else: \n",
    "#        win == xo[play2]\n",
    " #       return player_vaule.get(xo[play2])\n",
    "    #####################################################"
   ]
  },
  {
   "cell_type": "code",
   "execution_count": null,
   "id": "2098d03f",
   "metadata": {},
   "outputs": [
    {
     "name": "stdout",
     "output_type": "stream",
     "text": [
      "{'X': 'Shivani', 'O': 'Sudharshanan'}\n",
      "                      \n",
      "[9, 8, 7]\n",
      "[6, 5, 4]\n",
      "[3, 2, 1]\n",
      "                      \n",
      "                      \n",
      "|O| |O|\n",
      "-------\n",
      "| |O|X|\n",
      "-------\n",
      "|X|X|X|\n",
      "Shivani Wins the game\n"
     ]
    }
   ],
   "source": [
    "\n",
    "start_YN = input(\"do you want to continue (yes or no): \")\n",
    "while start_YN[0].lower() == \"y\":\n",
    "    player_value = playername()  ## player_value is a dictionary that has player name and their value (X or O)\n",
    "    xo = [\" \"]*10\n",
    "    board_view(xo)\n",
    "    condition = True\n",
    "    for i in range(1,10):\n",
    "       \n",
    "        while condition == True:\n",
    "            if \" \" in xo[1:]:\n",
    "                play1 = int(input(f\"{list(player_value.values())[0]} enter the position: \"))\n",
    "                condition_1 = True  ## new condition added\n",
    "                while condition_1 == True:\n",
    "                    if play1 not in range(1,10) or xo[play1] in [\"X\",\"O\"]:\n",
    "                        print(f\"Hey {list(player_value.values())[0]} please enter a valid value\")\n",
    "                        play1 = int(input(f\"{list(player_value.values())[0]} enter the position: \")) \n",
    "                    else:\n",
    "                        xo[play1] = list(player_value.keys())[0]\n",
    "                        condition_1 = False\n",
    "                board_view(xo)\n",
    "                winner = win_check(player_value,xo)\n",
    "                if winner in list(player_value. values()):\n",
    "                    print(f\"{winner} Wins the game\")\n",
    "                    condition = False\n",
    "                    \n",
    "            if \" \" in xo[1:]:\n",
    "                play2 = int(input(f\"{list(player_value.values())[1]} enter the position: \"))  ############explain later##############\n",
    "                condition_1 = True\n",
    "                while condition_1 == True:\n",
    "                    if play2 not in range(1,10) or xo[play2]  in [\"X\",\"O\"]:\n",
    "                        print(f\"Hey {list(player_value.values())[1]} please enter a valid value\")\n",
    "                        play2 = int(input(f\"{list(player_value.values())[1]} enter the position: \"))\n",
    "                    else:\n",
    "                        xo[play2] = list(player_value.keys())[1] \n",
    "                        condition_1 = False\n",
    "                board_view(xo)\n",
    "                winner = win_check(player_value,xo)\n",
    "                if winner in list(player_value. values()):\n",
    "                    print(f\"{winner} Wins the game\")\n",
    "                    condition = False\n",
    "            else:\n",
    "                condition = False\n",
    "    print(winner)\n",
    "    \n",
    "    start_YN = input(\"do you want to continue (yes or no): \")\n",
    "\n",
    "       \n",
    "\n",
    "    \n",
    "    "
   ]
  },
  {
   "cell_type": "code",
   "execution_count": 13,
   "id": "0040c89d",
   "metadata": {},
   "outputs": [
    {
     "data": {
      "text/plain": [
       "'nivetha'"
      ]
     },
     "execution_count": 13,
     "metadata": {},
     "output_type": "execute_result"
    }
   ],
   "source": [
    "\n",
    "\n",
    "xo = [\"#\",\"X\",\"X\",\"X\",\"X\",\"O\",\"O\",\"X\",\"O\",\"O\"]\n",
    "win_check(player_value,xo)\n"
   ]
  },
  {
   "cell_type": "markdown",
   "id": "a78dd8ce",
   "metadata": {},
   "source": [
    "#### 3### xyz = [1,2,\"X\",3,4,\"O\",5,\"X\"]\n",
    "x = int(input(\" ener the vaule: \"))\n",
    "if x in range(1,10) and  xyz[x] not in [\"X\",\"O\"]:\n",
    "    print(\" vetri\")\n",
    "else:\n",
    "    print(\"tholvi\")\n",
    "        "
   ]
  }
 ],
 "metadata": {
  "kernelspec": {
   "display_name": "Python 3 (ipykernel)",
   "language": "python",
   "name": "python3"
  },
  "language_info": {
   "codemirror_mode": {
    "name": "ipython",
    "version": 3
   },
   "file_extension": ".py",
   "mimetype": "text/x-python",
   "name": "python",
   "nbconvert_exporter": "python",
   "pygments_lexer": "ipython3",
   "version": "3.9.7"
  }
 },
 "nbformat": 4,
 "nbformat_minor": 5
}
